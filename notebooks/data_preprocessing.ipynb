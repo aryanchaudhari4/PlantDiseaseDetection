{
 "cells": [
  {
   "cell_type": "code",
   "execution_count": 4,
   "id": "5ce977ff",
   "metadata": {},
   "outputs": [
    {
     "name": "stdout",
     "output_type": "stream",
     "text": [
      "✅ Total images loaded: 5452\n",
      "✅ X_train shape: (4361, 128, 128, 3)\n",
      "✅ y_train shape: (4361, 4)\n"
     ]
    }
   ],
   "source": [
    "import os\n",
    "import cv2\n",
    "import numpy as np\n",
    "from sklearn.model_selection import train_test_split\n",
    "from sklearn.preprocessing import LabelBinarizer\n",
    "import matplotlib.pyplot as plt\n",
    "import pickle\n",
    "\n",
    "# Set dataset path\n",
    "dataset_path = os.path.abspath(\"../dataset\")\n",
    "\n",
    "\n",
    "# Select 4 classes\n",
    "classes = [\n",
    "    \"Tomato___Early_blight\",\n",
    "    \"Tomato___Late_blight\",\n",
    "    \"Tomato___Leaf_Mold\",\n",
    "    \"Tomato___healthy\"\n",
    "]\n",
    "\n",
    "# Resize and normalize images\n",
    "img_size = 128\n",
    "data = []\n",
    "labels = []\n",
    "\n",
    "for class_name in classes:\n",
    "    folder_path = os.path.join(dataset_path, class_name)\n",
    "    for img_file in os.listdir(folder_path):\n",
    "        img_path = os.path.join(folder_path, img_file)\n",
    "        img = cv2.imread(img_path)\n",
    "        if img is not None:\n",
    "            img = cv2.resize(img, (img_size, img_size))\n",
    "            img = img / 255.0  # Normalize pixel values\n",
    "            data.append(img)\n",
    "            labels.append(class_name)\n",
    "\n",
    "print(f\"✅ Total images loaded: {len(data)}\")\n",
    "\n",
    "# Convert to NumPy arrays\n",
    "X = np.array(data)\n",
    "y = np.array(labels)\n",
    "\n",
    "# One-hot encode labels\n",
    "lb = LabelBinarizer()\n",
    "y = lb.fit_transform(y)\n",
    "\n",
    "# Save label classes for later use in GUI\n",
    "with open(\"../model/label_classes.pkl\", \"wb\") as f:\n",
    "    pickle.dump(lb.classes_, f)\n",
    "\n",
    "# Split data: 80% train, 20% test\n",
    "X_train, X_test, y_train, y_test = train_test_split(X, y, test_size=0.2, random_state=42)\n",
    "\n",
    "print(\"✅ X_train shape:\", X_train.shape)\n",
    "print(\"✅ y_train shape:\", y_train.shape)\n"
   ]
  }
 ],
 "metadata": {
  "kernelspec": {
   "display_name": "Python 3",
   "language": "python",
   "name": "python3"
  },
  "language_info": {
   "codemirror_mode": {
    "name": "ipython",
    "version": 3
   },
   "file_extension": ".py",
   "mimetype": "text/x-python",
   "name": "python",
   "nbconvert_exporter": "python",
   "pygments_lexer": "ipython3",
   "version": "3.12.0"
  }
 },
 "nbformat": 4,
 "nbformat_minor": 5
}
